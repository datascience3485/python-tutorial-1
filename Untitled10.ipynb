{
 "cells": [
  {
   "cell_type": "code",
   "execution_count": 1,
   "id": "44001334-0d66-49ac-8c04-7b845354ab1f",
   "metadata": {},
   "outputs": [
    {
     "name": "stdout",
     "output_type": "stream",
     "text": [
      "v\n",
      "i\n",
      "s\n",
      "h\n",
      "w\n",
      "a\n",
      "j\n",
      "e\n",
      "e\n",
      "t\n"
     ]
    }
   ],
   "source": [
    "#for loop\n",
    "\n",
    "for i in\"vishwajeet\":\n",
    "    print(i)"
   ]
  },
  {
   "cell_type": "code",
   "execution_count": 2,
   "id": "22b811d5-d7f0-470a-bb03-9df7e7f57f65",
   "metadata": {},
   "outputs": [
    {
     "name": "stdout",
     "output_type": "stream",
     "text": [
      "Vishwajeet"
     ]
    }
   ],
   "source": [
    "for i in \"Vishwajeet\":\n",
    "    print(i,end=\"\")"
   ]
  },
  {
   "cell_type": "code",
   "execution_count": 3,
   "id": "c1c76839-97fa-4c38-a06a-281ebb9c0045",
   "metadata": {},
   "outputs": [
    {
     "name": "stdout",
     "output_type": "stream",
     "text": [
      "12\n",
      "23\n",
      "34\n",
      "44\n",
      "55\n",
      "66\n",
      "77\n",
      "8\n"
     ]
    }
   ],
   "source": [
    "for i in[12,23,34,44,55,66,77,8]: #list\n",
    "    print(i)"
   ]
  },
  {
   "cell_type": "code",
   "execution_count": 4,
   "id": "274a9ffc-3c97-43dc-9f32-3ef2a2032d00",
   "metadata": {},
   "outputs": [
    {
     "name": "stdout",
     "output_type": "stream",
     "text": [
      "12\n",
      "23\n",
      "34\n",
      "45\n",
      "56\n",
      "67\n"
     ]
    }
   ],
   "source": [
    "for i in (12,23,34,45,56,67):  #tuple\n",
    "    print(i)"
   ]
  },
  {
   "cell_type": "code",
   "execution_count": 5,
   "id": "a4a5eb9f-7d75-4a93-9700-35689aa415b3",
   "metadata": {},
   "outputs": [
    {
     "name": "stdout",
     "output_type": "stream",
     "text": [
      "34\n",
      "12\n",
      "44\n",
      "23\n"
     ]
    }
   ],
   "source": [
    "for i in {12,23,34,44}:   #set\n",
    "    print(i)"
   ]
  },
  {
   "cell_type": "code",
   "execution_count": 6,
   "id": "a7087bc8-a3a7-4c06-840e-1f173ed18e97",
   "metadata": {},
   "outputs": [
    {
     "name": "stdout",
     "output_type": "stream",
     "text": [
      "Name\n",
      "age\n"
     ]
    }
   ],
   "source": [
    "for i in {\"Name\":\"aviral\",\"age\":29}:  #dictionary\n",
    "    print(i)"
   ]
  },
  {
   "cell_type": "code",
   "execution_count": 7,
   "id": "023ce31b-a50c-4300-886c-d9bbf408c2dd",
   "metadata": {},
   "outputs": [
    {
     "data": {
      "text/plain": [
       "range(0, 10)"
      ]
     },
     "execution_count": 7,
     "metadata": {},
     "output_type": "execute_result"
    }
   ],
   "source": [
    "range(10)"
   ]
  },
  {
   "cell_type": "code",
   "execution_count": 8,
   "id": "1ff104d1-2dc4-4a3f-bd7a-62bd4f2f47c3",
   "metadata": {},
   "outputs": [
    {
     "name": "stdout",
     "output_type": "stream",
     "text": [
      "0123456789"
     ]
    }
   ],
   "source": [
    "for i in range(10):\n",
    "    print(i,end=\"\")"
   ]
  },
  {
   "cell_type": "code",
   "execution_count": 9,
   "id": "1a9730db-eae4-45a1-bf78-820e8987f8eb",
   "metadata": {},
   "outputs": [
    {
     "name": "stdout",
     "output_type": "stream",
     "text": [
      "123456789"
     ]
    }
   ],
   "source": [
    "for i in  range(1,10):\n",
    "    print(i,end=\"\")"
   ]
  },
  {
   "cell_type": "code",
   "execution_count": 10,
   "id": "71082dec-ed24-42c6-8837-71f82f057bd8",
   "metadata": {},
   "outputs": [
    {
     "name": "stdout",
     "output_type": "stream",
     "text": [
      "147101316192225283134374043464952555861646770737679828588919497"
     ]
    }
   ],
   "source": [
    "for i in range(1,100,3):\n",
    "    print(i,end=\"\")"
   ]
  },
  {
   "cell_type": "code",
   "execution_count": 11,
   "id": "21db3a89-9d2e-4593-b038-9b2078e5c7ce",
   "metadata": {},
   "outputs": [
    {
     "name": "stdout",
     "output_type": "stream",
     "text": [
      "100999897969594939291908988878685848382818079787776757473727170696867666564636261605958575655545352515049484746454443424140393837363534333231302928272625242322212019181716151413121110987654321"
     ]
    }
   ],
   "source": [
    "for i in range(100,0,-1):\n",
    "    print(i,end=\"\")"
   ]
  },
  {
   "cell_type": "code",
   "execution_count": 12,
   "id": "0345cb3d-f76a-434f-a63b-3d9d0d6e6e02",
   "metadata": {},
   "outputs": [
    {
     "name": "stdout",
     "output_type": "stream",
     "text": [
      "Vishwajeet\n",
      "Vishwajeet\n",
      "Vishwajeet\n",
      "Vishwajeet\n",
      "Vishwajeet\n",
      "Vishwajeet\n",
      "Vishwajeet\n",
      "Vishwajeet\n",
      "Vishwajeet\n",
      "Vishwajeet\n"
     ]
    }
   ],
   "source": [
    "# print your name 10 times\n",
    "\n",
    "for i in range(10):\n",
    "    print(\"Vishwajeet\")"
   ]
  },
  {
   "cell_type": "code",
   "execution_count": 13,
   "id": "bdfd46fc-3d48-4c58-aa84-684727aa92b3",
   "metadata": {},
   "outputs": [
    {
     "name": "stdout",
     "output_type": "stream",
     "text": [
      "12345678910"
     ]
    }
   ],
   "source": [
    "# print first 10 natural numbers\n",
    "\n",
    "for i in range(1,11):\n",
    "    print(i,end=\"\")"
   ]
  },
  {
   "cell_type": "code",
   "execution_count": 14,
   "id": "6b98ddb6-de72-476e-a13e-e5b026115d70",
   "metadata": {},
   "outputs": [
    {
     "name": "stdout",
     "output_type": "stream",
     "text": [
      "0\n",
      "1\n",
      "2\n"
     ]
    }
   ],
   "source": [
    "for i in range(3):\n",
    "    print(i)"
   ]
  },
  {
   "cell_type": "code",
   "execution_count": 15,
   "id": "0f32e2df-6cae-4792-bb30-f917d59044cc",
   "metadata": {},
   "outputs": [
    {
     "name": "stdout",
     "output_type": "stream",
     "text": [
      "0  vishwajeet\n",
      "1  vishwajeet\n",
      "2  vishwajeet\n",
      "3  vishwajeet\n",
      "4  vishwajeet\n",
      "5  vishwajeet\n",
      "6  vishwajeet\n",
      "7  vishwajeet\n",
      "8  vishwajeet\n",
      "9  vishwajeet\n"
     ]
    }
   ],
   "source": [
    "for i in range(10):\n",
    "    print(i,\"\",\"vishwajeet\")"
   ]
  },
  {
   "cell_type": "code",
   "execution_count": 16,
   "id": "5fe4acc8-5b1c-416d-92db-d35104604386",
   "metadata": {},
   "outputs": [
    {
     "name": "stdout",
     "output_type": "stream",
     "text": [
      "the sum is 55\n"
     ]
    }
   ],
   "source": [
    "#print sum of first 10 natural no.\n",
    "\n",
    "s=0\n",
    "for i in range(1,11):\n",
    "    s=s+i\n",
    "print(\"the sum is\",s)"
   ]
  },
  {
   "cell_type": "code",
   "execution_count": 17,
   "id": "8babb235-a6ae-4c47-b147-4f350015a867",
   "metadata": {},
   "outputs": [],
   "source": [
    "#s=s+i\n",
    "#s=0+1=1\n",
    "#s=1+2=3\n",
    "#s=3+3=6"
   ]
  },
  {
   "cell_type": "code",
   "execution_count": 18,
   "id": "0a2a4d05-90f2-4d88-9d15-561b2c4a97e7",
   "metadata": {},
   "outputs": [
    {
     "name": "stdout",
     "output_type": "stream",
     "text": [
      "2468101214161820222426283032343638404244464850525456586062646668707274767880828486889092949698100"
     ]
    }
   ],
   "source": [
    "# print only even number for 1 to 100\n",
    "\n",
    "for i in range(2,102,2):\n",
    "    print(i,end=\"\")"
   ]
  },
  {
   "cell_type": "code",
   "execution_count": 19,
   "id": "78150cc9-5647-4fe7-8a8c-f1c16af4fe88",
   "metadata": {},
   "outputs": [
    {
     "name": "stdout",
     "output_type": "stream",
     "text": [
      "2468101214161820222426283032343638404244464850525456586062646668707274767880828486889092949698100"
     ]
    }
   ],
   "source": [
    "for i in range(1,101):\n",
    "    if i%2==0:\n",
    "        print(i,end=\"\")"
   ]
  },
  {
   "cell_type": "code",
   "execution_count": 20,
   "id": "49be87eb-5149-452f-a685-fcc6cef54852",
   "metadata": {},
   "outputs": [
    {
     "name": "stdin",
     "output_type": "stream",
     "text": [
      "enter the number 6\n"
     ]
    },
    {
     "name": "stdout",
     "output_type": "stream",
     "text": [
      "6 * 1 = 6\n",
      "6 * 2 = 12\n",
      "6 * 3 = 18\n",
      "6 * 4 = 24\n",
      "6 * 5 = 30\n",
      "6 * 6 = 36\n",
      "6 * 7 = 42\n",
      "6 * 8 = 48\n",
      "6 * 9 = 54\n",
      "6 * 10 = 60\n"
     ]
    }
   ],
   "source": [
    "# table of agiven number\n",
    "\n",
    "n=int(input(\"enter the number\"))\n",
    "\n",
    "for i in range (1,11):\n",
    "    print(n,\"*\",i,\"=\",n*i)"
   ]
  },
  {
   "cell_type": "code",
   "execution_count": 24,
   "id": "a329104d-7b19-4d6f-8ba7-ab54daf618e4",
   "metadata": {},
   "outputs": [
    {
     "name": "stdin",
     "output_type": "stream",
     "text": [
      "enter the number 5\n"
     ]
    },
    {
     "name": "stdout",
     "output_type": "stream",
     "text": [
      "factorial is 120\n"
     ]
    }
   ],
   "source": [
    "# factorial of agiven number\n",
    "\n",
    "n=int(input(\"enter the number\"))\n",
    "f=1\n",
    "\n",
    "for i in range(1,n+1):\n",
    "    f=f*i\n",
    "print(\"factorial is\",f)"
   ]
  },
  {
   "cell_type": "code",
   "execution_count": 22,
   "id": "c3f041d8-946c-4deb-91b6-d37edd4a0ba5",
   "metadata": {},
   "outputs": [],
   "source": [
    "#f=f*i\n",
    "#f=1*1=1\n",
    "#f=1*2=2\n",
    "#f=2*3=6\n",
    "#f=6*4=24\n",
    "#f=24*5=120\n"
   ]
  },
  {
   "cell_type": "code",
   "execution_count": null,
   "id": "11407ba8-9113-40ed-b907-dcd06a5851bf",
   "metadata": {},
   "outputs": [],
   "source": []
  }
 ],
 "metadata": {
  "kernelspec": {
   "display_name": "Python 3 (ipykernel)",
   "language": "python",
   "name": "python3"
  },
  "language_info": {
   "codemirror_mode": {
    "name": "ipython",
    "version": 3
   },
   "file_extension": ".py",
   "mimetype": "text/x-python",
   "name": "python",
   "nbconvert_exporter": "python",
   "pygments_lexer": "ipython3",
   "version": "3.11.7"
  }
 },
 "nbformat": 4,
 "nbformat_minor": 5
}

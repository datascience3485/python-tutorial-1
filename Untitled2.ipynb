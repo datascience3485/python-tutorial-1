{
 "cells": [
  {
   "cell_type": "code",
   "execution_count": 3,
   "id": "38ef2e11-a0a8-45ff-a323-dd3773529365",
   "metadata": {},
   "outputs": [],
   "source": [
    "a=20\n",
    "b=20"
   ]
  },
  {
   "cell_type": "code",
   "execution_count": 2,
   "id": "63b5bd3e-a47e-40de-800f-7c92d2f25e9a",
   "metadata": {},
   "outputs": [
    {
     "data": {
      "text/plain": [
       "False"
      ]
     },
     "execution_count": 2,
     "metadata": {},
     "output_type": "execute_result"
    }
   ],
   "source": [
    "a==b"
   ]
  },
  {
   "cell_type": "code",
   "execution_count": 4,
   "id": "c237090a-f09a-43aa-90c5-d2da5bddf404",
   "metadata": {},
   "outputs": [
    {
     "data": {
      "text/plain": [
       "False"
      ]
     },
     "execution_count": 4,
     "metadata": {},
     "output_type": "execute_result"
    }
   ],
   "source": [
    "a>b"
   ]
  },
  {
   "cell_type": "code",
   "execution_count": 4,
   "id": "5ee0fe19-d8bd-48ca-866f-86e306af5eb3",
   "metadata": {},
   "outputs": [
    {
     "data": {
      "text/plain": [
       "False"
      ]
     },
     "execution_count": 4,
     "metadata": {},
     "output_type": "execute_result"
    }
   ],
   "source": [
    "a<b"
   ]
  },
  {
   "cell_type": "code",
   "execution_count": 6,
   "id": "427479b9-4851-4eaf-b800-ded6bfb5223a",
   "metadata": {},
   "outputs": [
    {
     "data": {
      "text/plain": [
       "True"
      ]
     },
     "execution_count": 6,
     "metadata": {},
     "output_type": "execute_result"
    }
   ],
   "source": [
    "a<=b # either less or equal (any 1 true)"
   ]
  },
  {
   "cell_type": "code",
   "execution_count": 8,
   "id": "d309db06-6f81-44d6-b25f-0a6a66801b89",
   "metadata": {},
   "outputs": [
    {
     "data": {
      "text/plain": [
       "True"
      ]
     },
     "execution_count": 8,
     "metadata": {},
     "output_type": "execute_result"
    }
   ],
   "source": [
    "\n",
    "True and True and True"
   ]
  },
  {
   "cell_type": "code",
   "execution_count": 9,
   "id": "8fb9a848-7104-4ca6-aa90-5140ad9d4080",
   "metadata": {},
   "outputs": [
    {
     "data": {
      "text/plain": [
       "True"
      ]
     },
     "execution_count": 9,
     "metadata": {},
     "output_type": "execute_result"
    }
   ],
   "source": [
    "True or True or False"
   ]
  },
  {
   "cell_type": "code",
   "execution_count": 10,
   "id": "b140ee89-389f-4e9e-9bd7-9365e8256af9",
   "metadata": {},
   "outputs": [
    {
     "data": {
      "text/plain": [
       "False"
      ]
     },
     "execution_count": 10,
     "metadata": {},
     "output_type": "execute_result"
    }
   ],
   "source": [
    "False or False or False"
   ]
  },
  {
   "cell_type": "code",
   "execution_count": 11,
   "id": "853d8abf-76f6-4b7b-a03c-41f1276c57bd",
   "metadata": {},
   "outputs": [
    {
     "data": {
      "text/plain": [
       "False"
      ]
     },
     "execution_count": 11,
     "metadata": {},
     "output_type": "execute_result"
    }
   ],
   "source": [
    "not True"
   ]
  },
  {
   "cell_type": "code",
   "execution_count": 12,
   "id": "3628250f-8b5f-4153-ae54-2a8a3df99c52",
   "metadata": {},
   "outputs": [
    {
     "data": {
      "text/plain": [
       "True"
      ]
     },
     "execution_count": 12,
     "metadata": {},
     "output_type": "execute_result"
    }
   ],
   "source": [
    "not False"
   ]
  },
  {
   "cell_type": "code",
   "execution_count": 13,
   "id": "5afa6e43-e242-4f74-b6d5-56b28f78bb09",
   "metadata": {},
   "outputs": [
    {
     "data": {
      "text/plain": [
       "True"
      ]
     },
     "execution_count": 13,
     "metadata": {},
     "output_type": "execute_result"
    }
   ],
   "source": [
    "not True and True or False or True and True"
   ]
  },
  {
   "cell_type": "code",
   "execution_count": 14,
   "id": "a251c5e4-fbf0-43a0-a8da-7c988df2d59d",
   "metadata": {},
   "outputs": [
    {
     "name": "stdin",
     "output_type": "stream",
     "text": [
      "enter the value of a 20\n",
      "enter the value of b 10\n"
     ]
    },
    {
     "name": "stdout",
     "output_type": "stream",
     "text": [
      "the sum is 30\n"
     ]
    }
   ],
   "source": [
    "a=int(input(\"enter the value of a\",))\n",
    "b=int(input(\"enter the value of b\",))\n",
    "c=a+b\n",
    "print(\"the sum is\",c)"
   ]
  },
  {
   "cell_type": "code",
   "execution_count": 16,
   "id": "c53267b5-d4fc-4f8b-bacb-33341cff0fd1",
   "metadata": {},
   "outputs": [
    {
     "name": "stdin",
     "output_type": "stream",
     "text": [
      "enter the vaule of the principal 233\n",
      "enter the value of the rate 3232\n",
      "enter the value of the time 232\n"
     ]
    },
    {
     "name": "stdout",
     "output_type": "stream",
     "text": [
      "the interest is 1747089.92\n"
     ]
    }
   ],
   "source": [
    "p=int(input(\"enter the vaule of the principal\"))\n",
    "r=int(input(\"enter the value of the rate\"))\n",
    "t=int(input(\"enter the value of the time\"))\n",
    "si=p*r*t/100\n",
    "print(\"the interest is\",si)"
   ]
  },
  {
   "cell_type": "code",
   "execution_count": 18,
   "id": "cf08495b-cabd-4749-b46a-1660b3b7be81",
   "metadata": {},
   "outputs": [
    {
     "name": "stdin",
     "output_type": "stream",
     "text": [
      "enter the value of a 56\n",
      "enter the value of b 87\n",
      "enter the value of c 76\n"
     ]
    },
    {
     "name": "stdout",
     "output_type": "stream",
     "text": [
      "Average is 57.666666666666664\n"
     ]
    }
   ],
   "source": [
    "a=int(input(\"enter the value of a\",))\n",
    "b=int(input(\"enter the value of b\"))\n",
    "c+int(input(\"enter the value of c\"))\n",
    "avg=(a+b+c)/3\n",
    "print(\"Average is\",avg)"
   ]
  },
  {
   "cell_type": "code",
   "execution_count": 19,
   "id": "286c5757-cc0f-42be-b100-04494ceb3da6",
   "metadata": {},
   "outputs": [
    {
     "name": "stdin",
     "output_type": "stream",
     "text": [
      "enter the marks 56\n",
      "enter the marks 89\n",
      "enter the marks 87\n",
      "enter the marks 76\n",
      "enter the marks 56\n"
     ]
    },
    {
     "name": "stdout",
     "output_type": "stream",
     "text": [
      "the percentage is 72.8\n"
     ]
    }
   ],
   "source": [
    "p=float(input(\"enter the marks\"))\n",
    "c=float(input(\"enter the marks\"))\n",
    "m=float(input(\"enter the marks\"))\n",
    "e=float(input(\"enter the marks\"))\n",
    "h=float(input(\"enter the marks\"))\n",
    "s=p+c+m+e+h\n",
    "per=s*100/500\n",
    "print(\"the percentage is\",per)"
   ]
  },
  {
   "cell_type": "code",
   "execution_count": 30,
   "id": "dffde9de-2172-4aae-83b0-16a7ac5fe991",
   "metadata": {},
   "outputs": [
    {
     "name": "stdin",
     "output_type": "stream",
     "text": [
      "enter the value of x 20\n",
      "enter the value of y 30\n"
     ]
    },
    {
     "name": "stdout",
     "output_type": "stream",
     "text": [
      "Is x greater than y  False\n"
     ]
    }
   ],
   "source": [
    "x=int(input(\"enter the value of x\",))\n",
    "y=int(input(\"enter the value of y\",))\n",
    "\n",
    "print(\"Is x greater than y \",x>y)"
   ]
  },
  {
   "cell_type": "code",
   "execution_count": 26,
   "id": "0720695a-c3d8-43a2-ba93-5074a5c83454",
   "metadata": {},
   "outputs": [
    {
     "name": "stdout",
     "output_type": "stream",
     "text": [
      "n Is x less than y True\n"
     ]
    }
   ],
   "source": [
    "print(\"n Is x less than y\",x<y)"
   ]
  },
  {
   "cell_type": "raw",
   "id": "82a6d589-e8d7-46ca-9920-40cca97b1e41",
   "metadata": {},
   "source": [
    "print(\"n Is x equal to y\",x=y)"
   ]
  },
  {
   "cell_type": "code",
   "execution_count": 27,
   "id": "4d852a76-f83b-4dd2-b5be-982e7f4338b7",
   "metadata": {},
   "outputs": [
    {
     "name": "stdout",
     "output_type": "stream",
     "text": [
      "n Is x not equal to y True\n"
     ]
    }
   ],
   "source": [
    "print(\"n Is x not equal to y\",x!=y)"
   ]
  },
  {
   "cell_type": "code",
   "execution_count": 28,
   "id": "fdf2ae38-4615-43bd-85f7-74ec53d85d11",
   "metadata": {},
   "outputs": [
    {
     "name": "stdout",
     "output_type": "stream",
     "text": [
      "n Is x greater than or equal to y False\n"
     ]
    }
   ],
   "source": [
    "print(\"n Is x greater than or equal to y\",x>=y)"
   ]
  },
  {
   "cell_type": "code",
   "execution_count": 29,
   "id": "a4660c74-3303-449f-a8b2-fba8d27d6b63",
   "metadata": {},
   "outputs": [
    {
     "name": "stdout",
     "output_type": "stream",
     "text": [
      "n Is x less than or equal to y True\n"
     ]
    }
   ],
   "source": [
    "print(\"n Is x less than or equal to y\",x<=y)"
   ]
  },
  {
   "cell_type": "code",
   "execution_count": 33,
   "id": "2412999c-28c7-4009-8f59-900955e6ffff",
   "metadata": {},
   "outputs": [
    {
     "name": "stdin",
     "output_type": "stream",
     "text": [
      "enter the number 10\n"
     ]
    },
    {
     "name": "stdout",
     "output_type": "stream",
     "text": [
      "3.1622776601683795\n"
     ]
    }
   ],
   "source": [
    "import math\n",
    "n=int(input(\"enter the number\"))\n",
    "x=math.sqrt(n)\n",
    "print(x)"
   ]
  },
  {
   "cell_type": "code",
   "execution_count": 34,
   "id": "ed4bbbd3-ff39-4960-8854-f5fa0915df90",
   "metadata": {},
   "outputs": [
    {
     "name": "stdin",
     "output_type": "stream",
     "text": [
      "enter the value of the base 89\n",
      "enter the value of exponent 3\n"
     ]
    },
    {
     "name": "stdout",
     "output_type": "stream",
     "text": [
      "704969\n"
     ]
    }
   ],
   "source": [
    "a=int(input(\"enter the value of the base\"))\n",
    "b=int(input(\"enter the value of exponent\"))\n",
    "print(a**b)\n"
   ]
  },
  {
   "cell_type": "code",
   "execution_count": 35,
   "id": "ce5299cc-e840-4817-9116-c93dc71fce90",
   "metadata": {},
   "outputs": [
    {
     "name": "stdout",
     "output_type": "stream",
     "text": [
      "704969\n"
     ]
    }
   ],
   "source": [
    "print(pow(a,b))"
   ]
  },
  {
   "cell_type": "code",
   "execution_count": 36,
   "id": "76a8a9f9-1a01-475d-a244-9b40b4f08c6f",
   "metadata": {},
   "outputs": [
    {
     "name": "stdout",
     "output_type": "stream",
     "text": [
      "704969.0\n"
     ]
    }
   ],
   "source": [
    "print(math.pow(a,b))"
   ]
  },
  {
   "cell_type": "code",
   "execution_count": null,
   "id": "d435bf58-19c5-4cc0-90e9-840655004bae",
   "metadata": {},
   "outputs": [],
   "source": []
  }
 ],
 "metadata": {
  "kernelspec": {
   "display_name": "Python 3 (ipykernel)",
   "language": "python",
   "name": "python3"
  },
  "language_info": {
   "codemirror_mode": {
    "name": "ipython",
    "version": 3
   },
   "file_extension": ".py",
   "mimetype": "text/x-python",
   "name": "python",
   "nbconvert_exporter": "python",
   "pygments_lexer": "ipython3",
   "version": "3.11.7"
  }
 },
 "nbformat": 4,
 "nbformat_minor": 5
}

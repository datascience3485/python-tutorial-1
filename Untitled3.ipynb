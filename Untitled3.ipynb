{
 "cells": [
  {
   "cell_type": "code",
   "execution_count": 5,
   "id": "58c0c3e2-b2ca-4b26-b00c-7d33fdcf06c0",
   "metadata": {},
   "outputs": [],
   "source": [
    "a=20\n",
    "b=20"
   ]
  },
  {
   "cell_type": "code",
   "execution_count": 2,
   "id": "e032a8fb-d491-4962-89db-f87703ce8a98",
   "metadata": {},
   "outputs": [
    {
     "data": {
      "text/plain": [
       "False"
      ]
     },
     "execution_count": 2,
     "metadata": {},
     "output_type": "execute_result"
    }
   ],
   "source": [
    "a==b"
   ]
  },
  {
   "cell_type": "code",
   "execution_count": 7,
   "id": "5d96ad6c-19f7-4bcd-af61-3f9f45da72b1",
   "metadata": {},
   "outputs": [
    {
     "data": {
      "text/plain": [
       "False"
      ]
     },
     "execution_count": 7,
     "metadata": {},
     "output_type": "execute_result"
    }
   ],
   "source": [
    "a>b"
   ]
  },
  {
   "cell_type": "code",
   "execution_count": 6,
   "id": "78e799fb-c98d-41c1-bee7-c76d28133993",
   "metadata": {},
   "outputs": [
    {
     "data": {
      "text/plain": [
       "False"
      ]
     },
     "execution_count": 6,
     "metadata": {},
     "output_type": "execute_result"
    }
   ],
   "source": [
    "a<b"
   ]
  },
  {
   "cell_type": "code",
   "execution_count": 9,
   "id": "91a08535-92b2-45bf-8ff8-5cae6ddb8464",
   "metadata": {},
   "outputs": [
    {
     "data": {
      "text/plain": [
       "True"
      ]
     },
     "execution_count": 9,
     "metadata": {},
     "output_type": "execute_result"
    }
   ],
   "source": [
    "a<=b # either less or equal (any one true)"
   ]
  },
  {
   "cell_type": "raw",
   "id": "e4372b94-280f-4de0-ba4e-4fdf72c6e496",
   "metadata": {},
   "source": []
  },
  {
   "cell_type": "code",
   "execution_count": 11,
   "id": "133b9178-37e9-4799-a182-d0e5ffdc36ce",
   "metadata": {},
   "outputs": [
    {
     "data": {
      "text/plain": [
       "True"
      ]
     },
     "execution_count": 11,
     "metadata": {},
     "output_type": "execute_result"
    }
   ],
   "source": [
    "True and True and True"
   ]
  },
  {
   "cell_type": "raw",
   "id": "f1fd595a-e48d-4d3c-be8f-41114b4ad2f6",
   "metadata": {},
   "source": [
    "True or True or True"
   ]
  },
  {
   "cell_type": "code",
   "execution_count": 12,
   "id": "5b176372-45c3-458a-be7d-73cde7a9c1cb",
   "metadata": {},
   "outputs": [
    {
     "data": {
      "text/plain": [
       "True"
      ]
     },
     "execution_count": 12,
     "metadata": {},
     "output_type": "execute_result"
    }
   ],
   "source": [
    "True or True or True"
   ]
  },
  {
   "cell_type": "code",
   "execution_count": 13,
   "id": "6a5063a6-0882-4f5e-b107-7fca7375657d",
   "metadata": {},
   "outputs": [
    {
     "data": {
      "text/plain": [
       "False"
      ]
     },
     "execution_count": 13,
     "metadata": {},
     "output_type": "execute_result"
    }
   ],
   "source": [
    "False or False or False"
   ]
  },
  {
   "cell_type": "code",
   "execution_count": 14,
   "id": "d395103c-bf11-4c59-b9bb-139aea1ea856",
   "metadata": {},
   "outputs": [
    {
     "data": {
      "text/plain": [
       "False"
      ]
     },
     "execution_count": 14,
     "metadata": {},
     "output_type": "execute_result"
    }
   ],
   "source": [
    "not True"
   ]
  },
  {
   "cell_type": "code",
   "execution_count": 15,
   "id": "daea0f32-b0c7-4594-a738-ddc1d5a0eb3e",
   "metadata": {},
   "outputs": [
    {
     "data": {
      "text/plain": [
       "True"
      ]
     },
     "execution_count": 15,
     "metadata": {},
     "output_type": "execute_result"
    }
   ],
   "source": [
    "not True and True or False or True and True"
   ]
  },
  {
   "cell_type": "code",
   "execution_count": 17,
   "id": "3d0a1d6b-1b98-4138-989d-6faede332ba9",
   "metadata": {},
   "outputs": [
    {
     "name": "stdin",
     "output_type": "stream",
     "text": [
      "enter the value of a 90\n",
      "enter the value of b 89\n"
     ]
    },
    {
     "name": "stdout",
     "output_type": "stream",
     "text": [
      "the sum is 179\n"
     ]
    }
   ],
   "source": [
    "a=int(input(\"enter the value of a\",))\n",
    "b=int(input(\"enter the value of b\",))\n",
    "c=a+b\n",
    "print(\"the sum is\",c)"
   ]
  },
  {
   "cell_type": "code",
   "execution_count": 19,
   "id": "86d5750f-d178-4725-8d05-1c09f52e1dab",
   "metadata": {},
   "outputs": [
    {
     "name": "stdin",
     "output_type": "stream",
     "text": [
      "enter the value of principal 12312\n",
      "enter the value of rate 1213213\n",
      "enetr the value of time 321321\n"
     ]
    },
    {
     "name": "stdout",
     "output_type": "stream",
     "text": [
      "the intrest is\n"
     ]
    }
   ],
   "source": [
    "p=int(input(\"enter the value of principal\",))\n",
    "r=int(input(\"enter the value of rate\",))\n",
    "t=int(input(\"enetr the value of time\",))\n",
    "si=p*r*t/100\n",
    "print(\"the intrest is\",)"
   ]
  },
  {
   "cell_type": "code",
   "execution_count": 23,
   "id": "eee61ba5-7eea-4436-a352-8fe4e43af410",
   "metadata": {},
   "outputs": [
    {
     "name": "stdin",
     "output_type": "stream",
     "text": [
      "enter the value of a 8787\n",
      "enter the value of b 887\n",
      "enter the value of c 866\n"
     ]
    },
    {
     "name": "stdout",
     "output_type": "stream",
     "text": [
      "Average is 3513.3333333333335\n"
     ]
    }
   ],
   "source": [
    "a=int(input(\"enter the value of a\",))\n",
    "b=int(input(\"enter the value of b\",))\n",
    "c=int(input(\"enter the value of c\",))\n",
    "avg=(a+b+c)/3\n",
    "print(\"Average is\",avg)"
   ]
  },
  {
   "cell_type": "markdown",
   "id": "8d88d26a-3fa5-4c8e-aba3-27fa5f3a46fb",
   "metadata": {},
   "source": [
    "### p=float(input(\"enter the marks\",))\n",
    "c=float(input(\"enter the marks\",))\n",
    "m=float(input(\"enter the marks\",))\n",
    "e=float(input(\"enter the marks\",))\n",
    "h=float(input(\"enter the marks\",))\n",
    "s=p+c+m+e+h\n",
    "per=s*100/500\n",
    "print(\"the percentage is\",per)"
   ]
  },
  {
   "cell_type": "code",
   "execution_count": 3,
   "id": "8e274be7-dbc7-4a6f-8e45-5e54cf406efd",
   "metadata": {},
   "outputs": [
    {
     "name": "stdin",
     "output_type": "stream",
     "text": [
      "enter the number 10\n"
     ]
    },
    {
     "name": "stdout",
     "output_type": "stream",
     "text": [
      "you won\n"
     ]
    }
   ],
   "source": [
    "n=int(input(\"enter the number\"))\n",
    "if n==10:\n",
    "    print(\"you won\")"
   ]
  },
  {
   "cell_type": "code",
   "execution_count": 7,
   "id": "b44a48ea-eace-42d6-aeae-5cfbc6d1b7b7",
   "metadata": {},
   "outputs": [],
   "source": [
    "if n<0:\n",
    "    print(\"-ve number\")\n",
    "if n>0:\n",
    "    print=(\"+ve number\")\n",
    "if n==0:\n",
    "    print=(\"Number is zero itself\")\n"
   ]
  },
  {
   "cell_type": "code",
   "execution_count": 1,
   "id": "f4dd82d1-0c3b-45b2-a2d4-5114dccef109",
   "metadata": {},
   "outputs": [
    {
     "name": "stdin",
     "output_type": "stream",
     "text": [
      "enter the number 9\n"
     ]
    },
    {
     "name": "stdout",
     "output_type": "stream",
     "text": [
      "Odd number\n"
     ]
    }
   ],
   "source": [
    "# check even odd number\n",
    "\n",
    "n=int(input(\"enter the number\"))\n",
    "if n%2==0:\n",
    "    print(\"Even number\")\n",
    "else:\n",
    "    print(\"Odd number\")"
   ]
  },
  {
   "cell_type": "code",
   "execution_count": 3,
   "id": "9b8ffbeb-b3f3-45fd-9386-e488675d7f38",
   "metadata": {},
   "outputs": [
    {
     "name": "stdin",
     "output_type": "stream",
     "text": [
      "enter the year 2022\n"
     ]
    },
    {
     "name": "stdout",
     "output_type": "stream",
     "text": [
      "non leap year\n"
     ]
    }
   ],
   "source": [
    "year=int(input(\"enter the year\"))\n",
    "if year%4==0:\n",
    "         print(\"leap year\")\n",
    "else:\n",
    "    print(\"non leap year\")"
   ]
  },
  {
   "cell_type": "code",
   "execution_count": null,
   "id": "ca8fa723-d20f-449a-85d4-9e5c13251d05",
   "metadata": {},
   "outputs": [],
   "source": [
    "age=int(input(\"enter the age\"))\n",
    "\n",
    "if age>=18:\n",
    "    print(\"Eligible\")\n",
    "else:\n",
    "    print(\"Not Eligible\")\n",
    "    "
   ]
  },
  {
   "cell_type": "code",
   "execution_count": 23,
   "id": "03b42bf0-3e6b-4e92-8dca-35c6bb9c8a24",
   "metadata": {},
   "outputs": [
    {
     "name": "stdin",
     "output_type": "stream",
     "text": [
      "enter the number 20\n"
     ]
    }
   ],
   "source": [
    "n=int(input(\"enter the number\"))"
   ]
  },
  {
   "cell_type": "code",
   "execution_count": 5,
   "id": "caa3d29c-2551-47b1-9bb5-1994a08c4d36",
   "metadata": {},
   "outputs": [
    {
     "name": "stdin",
     "output_type": "stream",
     "text": [
      "enter the no. 2\n"
     ]
    },
    {
     "name": "stdout",
     "output_type": "stream",
     "text": [
      "2\n"
     ]
    }
   ],
   "source": [
    "n=int(input(\"enter the no.\"))\n",
    "x=abs(n)\n",
    "print(x)"
   ]
  },
  {
   "cell_type": "code",
   "execution_count": null,
   "id": "a879ced3-eea4-45ad-a575-6403c7bea597",
   "metadata": {},
   "outputs": [],
   "source": []
  }
 ],
 "metadata": {
  "kernelspec": {
   "display_name": "Python 3 (ipykernel)",
   "language": "python",
   "name": "python3"
  },
  "language_info": {
   "codemirror_mode": {
    "name": "ipython",
    "version": 3
   },
   "file_extension": ".py",
   "mimetype": "text/x-python",
   "name": "python",
   "nbconvert_exporter": "python",
   "pygments_lexer": "ipython3",
   "version": "3.11.7"
  }
 },
 "nbformat": 4,
 "nbformat_minor": 5
}

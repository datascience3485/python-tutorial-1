{
 "cells": [
  {
   "cell_type": "code",
   "execution_count": 4,
   "id": "bea51560-1b3b-4075-80c0-37818fbf2492",
   "metadata": {},
   "outputs": [
    {
     "name": "stdin",
     "output_type": "stream",
     "text": [
      "enter the value from 1____7 8\n"
     ]
    },
    {
     "name": "stdout",
     "output_type": "stream",
     "text": [
      "Invalid choice\n"
     ]
    }
   ],
   "source": [
    "day=int(input(\"enter the value from 1____7\"))\n",
    "if day==1:\n",
    "    print(\"SUN\")\n",
    "elif day==2:\n",
    "    print(\"MON\")\n",
    "elif day==3:\n",
    "    print(\"TUE\")\n",
    "elif day==4:\n",
    "    print(\"wed\")\n",
    "elif day==5:\n",
    "    print(\"THU\")\n",
    "elif day==6:\n",
    "    print(\"FRI\")\n",
    "elif day==7:\n",
    "    print(\"SAT\")\n",
    "else:\n",
    "    print(\"Invalid choice\")"
   ]
  },
  {
   "cell_type": "code",
   "execution_count": 7,
   "id": "7ae8a099-779c-4899-aef9-7d1098d32b0a",
   "metadata": {},
   "outputs": [
    {
     "name": "stdin",
     "output_type": "stream",
     "text": [
      "enter the marks out of 100 56\n",
      "enter the marks out of 100 87\n",
      "enter the marks out of 100 43\n",
      "enter the marks out of 100 54\n",
      "enter the marks out of 100 65\n"
     ]
    },
    {
     "name": "stdout",
     "output_type": "stream",
     "text": [
      "First\n"
     ]
    }
   ],
   "source": [
    "# print division of the student\n",
    "\n",
    "p=float(input(\"enter the marks out of 100\"))\n",
    "c=float(input(\"enter the marks out of 100\"))\n",
    "m=float(input(\"enter the marks out of 100\"))\n",
    "e=float(input(\"enter the marks out of 100\"))\n",
    "h=float(input(\"enter the marks out of 100\"))\n",
    "s=p+c+m+e+h\n",
    "per=s*100/500\n",
    "if per>=60:\n",
    "    print(\"First\")\n",
    "elif per>=45:\n",
    "    prit(\"second\")\n",
    "elif per>=33:\n",
    "     print(\"Third\")\n",
    "else:\n",
    "   print(\"Fail\")\n"
   ]
  },
  {
   "cell_type": "code",
   "execution_count": 8,
   "id": "6f0a10ef-7009-424d-9b99-e722059ae19b",
   "metadata": {},
   "outputs": [
    {
     "name": "stdin",
     "output_type": "stream",
     "text": [
      "enter the number 0\n"
     ]
    },
    {
     "name": "stdout",
     "output_type": "stream",
     "text": [
      "Number is zero\n"
     ]
    }
   ],
   "source": [
    "n=int(input(\"enter the number\"))\n",
    "if n<0:\n",
    "    print(\"-ve Number\")\n",
    "elif n>0:\n",
    "    print(\"+ve Number\")\n",
    "else:\n",
    "    print(\"Number is zero\")"
   ]
  },
  {
   "cell_type": "code",
   "execution_count": 3,
   "id": "7ccae78b-6d2b-4634-bbe5-10159260c493",
   "metadata": {},
   "outputs": [
    {
     "ename": "TypeError",
     "evalue": "Kernel.raw_input() takes from 1 to 2 positional arguments but 3 were given",
     "output_type": "error",
     "traceback": [
      "\u001b[1;31m---------------------------------------------------------------------------\u001b[0m",
      "\u001b[1;31mTypeError\u001b[0m                                 Traceback (most recent call last)",
      "Cell \u001b[1;32mIn[3], line 2\u001b[0m\n\u001b[0;32m      1\u001b[0m a\u001b[38;5;241m=\u001b[39m\u001b[38;5;241m20\u001b[39m\n\u001b[1;32m----> 2\u001b[0m a\u001b[38;5;241m=\u001b[39m\u001b[38;5;28mint\u001b[39m(\u001b[38;5;28minput\u001b[39m(\u001b[38;5;124m\"\u001b[39m\u001b[38;5;124menter the value of\u001b[39m\u001b[38;5;124m\"\u001b[39m,a))\n\u001b[0;32m      3\u001b[0m b\u001b[38;5;241m=\u001b[39m\u001b[38;5;28mint\u001b[39m(\u001b[38;5;28minput\u001b[39m(\u001b[38;5;124m\"\u001b[39m\u001b[38;5;124menter the value of\u001b[39m\u001b[38;5;124m\"\u001b[39m,b))\n\u001b[0;32m      4\u001b[0m c\u001b[38;5;241m=\u001b[39ma\u001b[38;5;241m+\u001b[39mb\n",
      "\u001b[1;31mTypeError\u001b[0m: Kernel.raw_input() takes from 1 to 2 positional arguments but 3 were given"
     ]
    }
   ],
   "source": [
    "a=int(input(\"enter the value of\",a))\n",
    "b=int(input(\"enter the value of\",b))\n",
    "c=a+b\n",
    "print(\"the sum is\",c)"
   ]
  },
  {
   "cell_type": "code",
   "execution_count": null,
   "id": "1a2ea106-bf78-4ce5-af7a-2fad25e7e3d2",
   "metadata": {},
   "outputs": [],
   "source": []
  }
 ],
 "metadata": {
  "kernelspec": {
   "display_name": "Python 3 (ipykernel)",
   "language": "python",
   "name": "python3"
  },
  "language_info": {
   "codemirror_mode": {
    "name": "ipython",
    "version": 3
   },
   "file_extension": ".py",
   "mimetype": "text/x-python",
   "name": "python",
   "nbconvert_exporter": "python",
   "pygments_lexer": "ipython3",
   "version": "3.11.7"
  }
 },
 "nbformat": 4,
 "nbformat_minor": 5
}

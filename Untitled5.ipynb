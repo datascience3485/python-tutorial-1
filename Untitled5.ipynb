{
 "cells": [
  {
   "cell_type": "code",
   "execution_count": 1,
   "id": "cc1808c4-ff19-4fe9-b0b4-f0ab41b27c96",
   "metadata": {},
   "outputs": [
    {
     "name": "stdin",
     "output_type": "stream",
     "text": [
      "enter the number 14\n",
      "enter the numbers 24\n",
      "enter the numbers 234\n"
     ]
    },
    {
     "name": "stdout",
     "output_type": "stream",
     "text": [
      "c is greatest\n"
     ]
    }
   ],
   "source": [
    "#find the greatest among three numbers\n",
    "a=int(input(\"enter the number\"))\n",
    "b=int(input(\"enter the numbers\"))\n",
    "c=int(input(\"enter the numbers\"))\n",
    "\n",
    "if a>b and a>c:\n",
    "    print(\"a is greatest\")\n",
    "elif b>a and b>c:\n",
    "    print(\"b is greatest\")\n",
    "else:\n",
    "    print(\"c is greatest\")"
   ]
  },
  {
   "cell_type": "code",
   "execution_count": 2,
   "id": "2fc54f44-db5a-45e7-a719-47b085632a8f",
   "metadata": {},
   "outputs": [
    {
     "name": "stdin",
     "output_type": "stream",
     "text": [
      "enter an alphabet o\n"
     ]
    },
    {
     "name": "stdout",
     "output_type": "stream",
     "text": [
      "Vowel\n"
     ]
    }
   ],
   "source": [
    "#check vowel or consonent\n",
    "\n",
    "ch=input(\"enter an alphabet\")\n",
    "\n",
    "if ch=='a' or ch=='e' or ch=='i' or ch=='o' or ch=='u':\n",
    "    print(\"Vowel\")\n",
    "elif ch=='A' or ch=='E' or ch=='I' or ch=='O' or ch=='U':\n",
    "    print(\"Vowel\")\n",
    "else:\n",
    "    print(\"Consonant\")"
   ]
  },
  {
   "cell_type": "code",
   "execution_count": 3,
   "id": "88ae0991-4c05-4b22-9801-6ad044d04a08",
   "metadata": {},
   "outputs": [
    {
     "name": "stdin",
     "output_type": "stream",
     "text": [
      "enter the color code like \n",
      " r for Red \n",
      " g for green \n",
      " y for yellow \n",
      " g\n"
     ]
    },
    {
     "name": "stdout",
     "output_type": "stream",
     "text": [
      "Move Forward\n"
     ]
    }
   ],
   "source": [
    "ch=input(\"enter the color code like \\n r for Red \\n g for green \\n y for yellow \\n\")\n",
    "\n",
    "if ch=='r' or ch=='R':\n",
    "    print(\"STOP\")\n",
    "elif ch=='y' or ch=='Y':\n",
    "    print(\"Get Ready\")\n",
    "elif ch=='g' or ch=='G':\n",
    "    print(\"Move Forward\")\n",
    "else:\n",
    "    print(\"Pay Chalaan\")"
   ]
  },
  {
   "cell_type": "code",
   "execution_count": 3,
   "id": "fbaef9bb-08da-4057-a074-f0ebbf3d5e5a",
   "metadata": {},
   "outputs": [
    {
     "name": "stdin",
     "output_type": "stream",
     "text": [
      "enter the color code like \n",
      " r for Red \n",
      " g for green \n",
      " y for yellow \n",
      " g\n"
     ]
    },
    {
     "name": "stdout",
     "output_type": "stream",
     "text": [
      "Move Forward\n"
     ]
    }
   ],
   "source": [
    "\n",
    "\n",
    "if ch=='r' or ch=='R':\n",
    "    print(\"STOP\")\n",
    "elif ch=='y' or ch=='Y':\n",
    "    print(\"Get Ready\")\n",
    "elif ch=='g' or ch=='G':\n",
    "    print(\"Move Forward\")\n",
    "else:\n",
    "    print(\"Pay Chalaan\")"
   ]
  },
  {
   "cell_type": "code",
   "execution_count": 4,
   "id": "4aa73f74-35a5-4dc7-b0aa-057a12f9b5ea",
   "metadata": {},
   "outputs": [
    {
     "name": "stdin",
     "output_type": "stream",
     "text": [
      "enter an alphabet a\n"
     ]
    },
    {
     "name": "stdout",
     "output_type": "stream",
     "text": [
      "Vowel\n"
     ]
    }
   ],
   "source": [
    "# check vowel or consonant\n",
    "\n",
    "ch=input(\"enter an alphabet\")\n",
    "\n",
    "if ch in ['a','A','i','I','o','O','u','U','e','E',]:\n",
    "    print(\"Vowel\")\n",
    "else:\n",
    "    print(\"Consonant\")"
   ]
  },
  {
   "cell_type": "code",
   "execution_count": null,
   "id": "97d9d4e4-08d7-4b8d-8365-e2018aea9a59",
   "metadata": {},
   "outputs": [],
   "source": []
  },
  {
   "cell_type": "code",
   "execution_count": 5,
   "id": "ee62f562-24f5-4ac2-bf54-bea8d7075405",
   "metadata": {},
   "outputs": [
    {
     "name": "stdin",
     "output_type": "stream",
     "text": [
      "enter the color code like \n",
      " r for Red \n",
      " g for green \n",
      " y for yellow \n",
      " y\n"
     ]
    },
    {
     "name": "stdout",
     "output_type": "stream",
     "text": [
      "GET READY\n"
     ]
    }
   ],
   "source": [
    "ch=input(\"enter the color code like \\n r for Red \\n g for green \\n y for yellow \\n\")\n",
    "\n",
    "if ch in ['R','r']:\n",
    "    print(\"STOP\")\n",
    "elif ch in ['Y','y']:\n",
    "    print(\"GET READY\")\n",
    "elif ch in ['g','G']:\n",
    "    print(\"Move Forward\")\n",
    "else:\n",
    "    print(\"Pay Chalaan\")"
   ]
  },
  {
   "cell_type": "code",
   "execution_count": 10,
   "id": "d68bcd06-d785-4b0b-943b-993b7bd95a15",
   "metadata": {},
   "outputs": [
    {
     "name": "stdin",
     "output_type": "stream",
     "text": [
      "enter the number 543\n",
      "enter the number 54\n"
     ]
    },
    {
     "name": "stdout",
     "output_type": "stream",
     "text": [
      "1.ADD\n",
      "2.SUB\n",
      "3.MUL\n",
      "4.DIV\n"
     ]
    },
    {
     "name": "stdin",
     "output_type": "stream",
     "text": [
      "enter the choice from above 3\n"
     ]
    },
    {
     "name": "stdout",
     "output_type": "stream",
     "text": [
      "the mul is 29322\n"
     ]
    }
   ],
   "source": [
    "# mini calculator\n",
    "\n",
    "a=int(input(\"enter the number\"))\n",
    "b=int(input(\"enter the number\"))\n",
    "print(\"1.ADD\")\n",
    "print(\"2.SUB\")\n",
    "print(\"3.MUL\")\n",
    "print(\"4.DIV\")\n",
    "choice=int(input(\"enter the choice from above\"))\n",
    "if choice==1:\n",
    "    print(\"the sum is\",a+b)\n",
    "elif choice==2:\n",
    "    print(\"the sub is\",a-b)\n",
    "elif choice==3:\n",
    "    print(\"the mul is\",a*b)\n",
    "elif choice==4:\n",
    "    print(\"the div is \",a/b)\n",
    "else:\n",
    "    print(\"invalid choice\")"
   ]
  },
  {
   "cell_type": "code",
   "execution_count": 12,
   "id": "69d577b7-0e69-4b76-ab2b-ec5d59ccd478",
   "metadata": {},
   "outputs": [
    {
     "name": "stdin",
     "output_type": "stream",
     "text": [
      "enter the number of units 989\n"
     ]
    },
    {
     "name": "stdout",
     "output_type": "stream",
     "text": [
      "Amount to Pay: 8390\n"
     ]
    }
   ],
   "source": [
    "amt=0\n",
    "nu=int(input(\"enter the number of units\"))\n",
    "if nu>=100:\n",
    "   amt=0\n",
    "if nu>100:\n",
    "    amt=(nu-100)*5\n",
    "if nu>200:\n",
    "    amt=500+(nu-200)*10\n",
    "print(\"Amount to Pay:\",amt)  #100-0   100---500 150*10=1500"
   ]
  },
  {
   "cell_type": "code",
   "execution_count": 13,
   "id": "a03b12f4-e0dc-40a2-91c3-b781fefad489",
   "metadata": {},
   "outputs": [
    {
     "name": "stdin",
     "output_type": "stream",
     "text": [
      "Enter length 78\n",
      "Enter breadth 98\n"
     ]
    },
    {
     "name": "stdout",
     "output_type": "stream",
     "text": [
      "No, its is only Rectangle\n",
      "the area of rectangle is 7644\n"
     ]
    }
   ],
   "source": [
    "length=int(input(\"Enter length\"))\n",
    "breadth=int(input(\"Enter breadth\"))\n",
    "if length==breadth:\n",
    "    print(\"Yes,it is square\")\n",
    "    print(\"the area of square is\",length**2)\n",
    "else:\n",
    "    print(\"No, its is only Rectangle\")\n",
    "    print(\"the area of rectangle is\",length*breadth)"
   ]
  },
  {
   "cell_type": "code",
   "execution_count": null,
   "id": "f42e2683-ef92-4f02-90fd-5937f3c9f438",
   "metadata": {},
   "outputs": [],
   "source": []
  }
 ],
 "metadata": {
  "kernelspec": {
   "display_name": "Python 3 (ipykernel)",
   "language": "python",
   "name": "python3"
  },
  "language_info": {
   "codemirror_mode": {
    "name": "ipython",
    "version": 3
   },
   "file_extension": ".py",
   "mimetype": "text/x-python",
   "name": "python",
   "nbconvert_exporter": "python",
   "pygments_lexer": "ipython3",
   "version": "3.11.7"
  }
 },
 "nbformat": 4,
 "nbformat_minor": 5
}

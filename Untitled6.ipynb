{
 "cells": [
  {
   "cell_type": "code",
   "execution_count": 1,
   "id": "e132f9d2-4fff-414d-aaf3-9fa0cf69c086",
   "metadata": {},
   "outputs": [
    {
     "name": "stdin",
     "output_type": "stream",
     "text": [
      "enter the number 56\n",
      "enter the number 65\n",
      "enter the number 34\n"
     ]
    },
    {
     "name": "stdout",
     "output_type": "stream",
     "text": [
      "B is the greatest\n"
     ]
    }
   ],
   "source": [
    "# greatest among three number\n",
    "a=int(input(\"enter the number\"))\n",
    "b=int(input(\"enter the number\"))\n",
    "c=int(input(\"enter the number\"))\n",
    "\n",
    "if a>b:\n",
    "    if a>c:\n",
    "        print(\"A is the greatest\")\n",
    "    else:\n",
    "        print(\"C is the greatest\")\n",
    "\n",
    "else:\n",
    "    if b>c:\n",
    "        print(\"B is the greatest\")\n",
    "    else:\n",
    "        print(\"C is the greatest\")"
   ]
  },
  {
   "cell_type": "code",
   "execution_count": 2,
   "id": "04dedd83-70c7-4c3a-8ebc-ac6e40bd0e29",
   "metadata": {},
   "outputs": [
    {
     "name": "stdout",
     "output_type": "stream",
     "text": [
      "Vishwajeet\n",
      "Vishwajeet\n",
      "Vishwajeet\n",
      "Vishwajeet\n",
      "Vishwajeet\n",
      "Vishwajeet\n",
      "Vishwajeet\n",
      "Vishwajeet\n",
      "Vishwajeet\n",
      "Vishwajeet\n"
     ]
    }
   ],
   "source": [
    "#print your name 10 times\n",
    "\n",
    "i=1\n",
    "while i<=10:\n",
    "    print(\"Vishwajeet\")\n",
    "    i=i+1"
   ]
  },
  {
   "cell_type": "code",
   "execution_count": 3,
   "id": "8717f789-bad5-4903-a691-373606b3bb69",
   "metadata": {},
   "outputs": [
    {
     "name": "stdout",
     "output_type": "stream",
     "text": [
      "1\n",
      "2\n",
      "3\n",
      "4\n",
      "5\n",
      "6\n",
      "7\n",
      "8\n",
      "9\n",
      "10\n"
     ]
    }
   ],
   "source": [
    "# print first 10 natural number\n",
    "\n",
    "i=1\n",
    "while i<=10:\n",
    "    print(i)\n",
    "    i=i+1\n",
    "\n"
   ]
  },
  {
   "cell_type": "code",
   "execution_count": 4,
   "id": "021119ac-91af-44fe-8fab-bbbcec4ecbb6",
   "metadata": {},
   "outputs": [
    {
     "name": "stdout",
     "output_type": "stream",
     "text": [
      "1 2 3 4 5 6 7 8 9 10 "
     ]
    }
   ],
   "source": [
    "i=1\n",
    "while i<=10:\n",
    "    print(i,end=\" \")\n",
    "    i=i+1"
   ]
  },
  {
   "cell_type": "code",
   "execution_count": 5,
   "id": "54092d24-1d24-42ba-a790-8374b184e963",
   "metadata": {},
   "outputs": [
    {
     "name": "stdout",
     "output_type": "stream",
     "text": [
      "the sum is 55\n"
     ]
    }
   ],
   "source": [
    "# print the sum of first 10 natural number\n",
    "\n",
    "i=1\n",
    "s=0\n",
    "while i<=10:\n",
    "    s=s+i\n",
    "    i=i+1\n",
    "print(\"the sum is\",s)"
   ]
  },
  {
   "cell_type": "code",
   "execution_count": 6,
   "id": "2d549ed7-1aec-48ef-9f6a-5ebf7e53aba5",
   "metadata": {},
   "outputs": [],
   "source": [
    "#s=s+i\n",
    "#s=0+1=1\n",
    "#s=1+2=3\n",
    "#s=3+3=6\n"
   ]
  },
  {
   "cell_type": "code",
   "execution_count": 7,
   "id": "1873d7b2-d99e-4a9a-bf14-5ef4a502fbb7",
   "metadata": {},
   "outputs": [
    {
     "name": "stdout",
     "output_type": "stream",
     "text": [
      "2 4 6 8 10 12 14 16 18 20 22 24 26 28 30 32 34 36 38 40 42 44 46 48 50 52 54 56 58 60 62 64 66 68 70 72 74 76 78 80 82 84 86 88 90 92 94 96 98 100 "
     ]
    }
   ],
   "source": [
    "# print only even numbers from 1 to 100\n",
    "\n",
    "i=1\n",
    "while i<=100:\n",
    "    if i%2==0:\n",
    "        print(i,end=\" \")\n",
    "    i=i+1"
   ]
  },
  {
   "cell_type": "code",
   "execution_count": 8,
   "id": "78293f17-8da1-4690-b61a-1789e5552ec8",
   "metadata": {},
   "outputs": [
    {
     "name": "stdout",
     "output_type": "stream",
     "text": [
      "1 3 5 7 9 11 13 15 17 19 21 23 25 27 29 31 33 35 37 39 41 43 45 47 49 51 53 55 57 59 61 63 65 67 69 71 73 75 77 79 81 83 85 87 89 91 93 95 97 99 "
     ]
    }
   ],
   "source": [
    "i=1\n",
    "while i<=100:\n",
    "    if i%2!=0:\n",
    "        print(i,end=\" \")\n",
    "    i=i+1\n"
   ]
  },
  {
   "cell_type": "code",
   "execution_count": 9,
   "id": "378ec6f5-d40e-4d83-b0b0-cffbe61db08b",
   "metadata": {},
   "outputs": [
    {
     "name": "stdout",
     "output_type": "stream",
     "text": [
      "the sum of even number is 2550\n",
      "the sum of odd numbers is 2500\n"
     ]
    }
   ],
   "source": [
    "# print the sum of even and odd number seperately from 1----100\n",
    "\n",
    "i=1\n",
    "se=0\n",
    "so=0\n",
    "while i<=100:\n",
    "    if i%2==0:\n",
    "        se=se+i\n",
    "    else:\n",
    "        so=so+i\n",
    "    i=i+1\n",
    "\n",
    "print(\"the sum of even number is\",se)\n",
    "print(\"the sum of odd numbers is\",so)"
   ]
  },
  {
   "cell_type": "code",
   "execution_count": 10,
   "id": "1da1fda1-4f31-4b5d-b872-e86ed38f47e5",
   "metadata": {},
   "outputs": [
    {
     "name": "stdin",
     "output_type": "stream",
     "text": [
      "enter the number 7\n"
     ]
    },
    {
     "name": "stdout",
     "output_type": "stream",
     "text": [
      "7\n",
      "14\n",
      "21\n",
      "28\n",
      "35\n",
      "42\n",
      "49\n",
      "56\n",
      "63\n",
      "70\n"
     ]
    }
   ],
   "source": [
    "#table of any number\n",
    "#4*1=4\n",
    "#4*2=8\n",
    "#4*3=12\n",
    "\n",
    "#n*i=(n*i)\n",
    "\n",
    "\n",
    "n=int(input(\"enter the number\"))\n",
    "i=1\n",
    "while i<=10:\n",
    "    print(n*i)\n",
    "    i=i+1"
   ]
  },
  {
   "cell_type": "code",
   "execution_count": 11,
   "id": "2f39164d-a35a-4cbd-8b87-97ece87c641b",
   "metadata": {},
   "outputs": [
    {
     "name": "stdin",
     "output_type": "stream",
     "text": [
      "enter the number 9\n"
     ]
    },
    {
     "name": "stdout",
     "output_type": "stream",
     "text": [
      "9\n",
      "18\n",
      "27\n",
      "36\n",
      "45\n",
      "54\n",
      "63\n",
      "72\n",
      "81\n",
      "90\n"
     ]
    }
   ],
   "source": [
    "n=int(input(\"enter the number\"))\n",
    "i=1\n",
    "while i<=10:\n",
    "    print(n*i)\n",
    "    i=i+1"
   ]
  },
  {
   "cell_type": "code",
   "execution_count": 12,
   "id": "8083185f-9786-4ecb-bd31-958dc1667723",
   "metadata": {},
   "outputs": [
    {
     "name": "stdin",
     "output_type": "stream",
     "text": [
      "enter the number 4\n"
     ]
    },
    {
     "name": "stdout",
     "output_type": "stream",
     "text": [
      "4 * 1 = 4\n",
      "4 * 2 = 8\n",
      "4 * 3 = 12\n",
      "4 * 4 = 16\n",
      "4 * 5 = 20\n",
      "4 * 6 = 24\n",
      "4 * 7 = 28\n",
      "4 * 8 = 32\n",
      "4 * 9 = 36\n",
      "4 * 10 = 40\n"
     ]
    }
   ],
   "source": [
    "n=int(input(\"enter the number\"))\n",
    "i=1\n",
    "while i<=10:\n",
    "    print(n,\"*\",i,\"=\",n*i)\n",
    "    i=i+1"
   ]
  },
  {
   "cell_type": "code",
   "execution_count": 13,
   "id": "32821bed-915e-448a-84b8-0f32115646f7",
   "metadata": {},
   "outputs": [],
   "source": [
    "# factors of a given number\n",
    "\n",
    "#24 \n",
    "\n",
    "#1 2 3 4 6 8 12 24\n"
   ]
  },
  {
   "cell_type": "code",
   "execution_count": 15,
   "id": "e99ec411-c500-45c1-8184-40c472c3e937",
   "metadata": {},
   "outputs": [
    {
     "name": "stdin",
     "output_type": "stream",
     "text": [
      "enter the number 24\n"
     ]
    },
    {
     "name": "stdout",
     "output_type": "stream",
     "text": [
      "1 2 3 4 6 8 12 24 "
     ]
    }
   ],
   "source": [
    "i=1\n",
    "n=int(input(\"enter the number\"))\n",
    "while i<=n:\n",
    "    if n%i==0:\n",
    "        print(i,end=\" \")\n",
    "    i=i+1"
   ]
  },
  {
   "cell_type": "code",
   "execution_count": null,
   "id": "c6052460-17ea-4261-b3d2-0b37f51bb258",
   "metadata": {},
   "outputs": [],
   "source": []
  }
 ],
 "metadata": {
  "kernelspec": {
   "display_name": "Python 3 (ipykernel)",
   "language": "python",
   "name": "python3"
  },
  "language_info": {
   "codemirror_mode": {
    "name": "ipython",
    "version": 3
   },
   "file_extension": ".py",
   "mimetype": "text/x-python",
   "name": "python",
   "nbconvert_exporter": "python",
   "pygments_lexer": "ipython3",
   "version": "3.11.7"
  }
 },
 "nbformat": 4,
 "nbformat_minor": 5
}

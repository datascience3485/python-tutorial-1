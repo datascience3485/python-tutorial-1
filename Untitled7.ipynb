{
 "cells": [
  {
   "cell_type": "code",
   "execution_count": 4,
   "id": "70df2278-0318-40b7-991b-0062fc51258d",
   "metadata": {},
   "outputs": [
    {
     "name": "stdin",
     "output_type": "stream",
     "text": [
      "enter the number 56\n"
     ]
    },
    {
     "name": "stdout",
     "output_type": "stream",
     "text": [
      "1 2 3 4 5 6 7 8 9 10 11 12 13 14 15 16 17 18 19 20 21 22 23 24 25 26 27 28 29 30 31 32 33 34 35 36 37 38 39 40 41 42 43 44 45 46 47 48 49 50 51 52 53 54 55 56 "
     ]
    }
   ],
   "source": [
    "# factors\n",
    "\n",
    "i=1\n",
    "n=int(input(\"enter the number\"))\n",
    "while i<=n:\n",
    "    if n%1==0:\n",
    "        print(i,end=\" \")\n",
    "    i=i+1"
   ]
  },
  {
   "cell_type": "code",
   "execution_count": 6,
   "id": "2379ba9a-ed1e-4beb-a76c-e1b16ca4dbd6",
   "metadata": {},
   "outputs": [
    {
     "name": "stdin",
     "output_type": "stream",
     "text": [
      "enter the number 67\n"
     ]
    },
    {
     "name": "stdout",
     "output_type": "stream",
     "text": [
      "the count of factors is 66\n",
      "Not prime number\n"
     ]
    }
   ],
   "source": [
    "i=1\n",
    "n=int(input(\"enter the number\"))\n",
    "co=0\n",
    "while i<n:\n",
    "    if n%1==0:\n",
    "        co=co+1\n",
    "    i=i+1\n",
    "print(\"the count of factors is\",co)\n",
    "\n",
    "if co==2:\n",
    "    print(\"prime numer\")\n",
    "else:\n",
    "    print(\"Not prime number\")"
   ]
  },
  {
   "cell_type": "code",
   "execution_count": 8,
   "id": "d33b1501-cdd4-432d-866a-854468b76480",
   "metadata": {},
   "outputs": [
    {
     "name": "stdin",
     "output_type": "stream",
     "text": [
      "enter the number 6\n"
     ]
    },
    {
     "name": "stdout",
     "output_type": "stream",
     "text": [
      "factorial is 720\n"
     ]
    }
   ],
   "source": [
    "# factorial\n",
    "\n",
    "n=int(input(\"enter the number\"))\n",
    "f=1\n",
    "while n>0:\n",
    "    f=f*n\n",
    "    n=n-1\n",
    "print(\"factorial is\",f)"
   ]
  },
  {
   "cell_type": "code",
   "execution_count": 9,
   "id": "e6371460-7c01-4349-876e-b56953b968fb",
   "metadata": {},
   "outputs": [],
   "source": [
    "#n=6\n",
    "#f=f*n\n",
    "#n=n-1\n",
    "#f=1*6=6\n",
    "#f=6*5=30\n",
    "#f=30*4=120\n",
    "#f=120*3=360\n",
    "#f=360*2=720\n",
    "#f=720*1=720"
   ]
  },
  {
   "cell_type": "code",
   "execution_count": 11,
   "id": "80b4c59e-bca2-43d9-a40c-aaa856e15782",
   "metadata": {},
   "outputs": [
    {
     "name": "stdout",
     "output_type": "stream",
     "text": [
      "720\n"
     ]
    }
   ],
   "source": [
    "import math\n",
    "print(math.factorial(6))"
   ]
  },
  {
   "cell_type": "code",
   "execution_count": 13,
   "id": "7f7831c5-6516-4c0f-a96a-b7c6cc139f18",
   "metadata": {},
   "outputs": [
    {
     "name": "stdin",
     "output_type": "stream",
     "text": [
      "enter the number 6\n"
     ]
    },
    {
     "name": "stdout",
     "output_type": "stream",
     "text": [
      "the factorial is 720\n"
     ]
    }
   ],
   "source": [
    "i=1\n",
    "n=int(input(\"enter the number\"))\n",
    "f=1\n",
    "while i<=n:\n",
    "    f=f*i\n",
    "    i=i+1\n",
    "print(\"the factorial is\",f)"
   ]
  },
  {
   "cell_type": "code",
   "execution_count": 14,
   "id": "c8bd46b7-8324-4a23-b452-7df9580fa2fa",
   "metadata": {},
   "outputs": [
    {
     "name": "stdin",
     "output_type": "stream",
     "text": [
      "enter the number 8769\n"
     ]
    },
    {
     "name": "stdout",
     "output_type": "stream",
     "text": [
      "the sum of digits is 30\n"
     ]
    }
   ],
   "source": [
    "# sum of digits of a number\n",
    "#8769----8+7+6+9=30\n",
    "\n",
    "n=int(input(\"enter the number\"))\n",
    "s=0\n",
    "while n>0:\n",
    "    rem=n%10\n",
    "    s=s+rem\n",
    "    n=n//10\n",
    "print(\"the sum of digits is\",s)\n"
   ]
  },
  {
   "cell_type": "code",
   "execution_count": 16,
   "id": "ef2d1232-c491-4b7b-8ecc-81589d1c0828",
   "metadata": {},
   "outputs": [],
   "source": [
    "#n=8769\n",
    "\n",
    "#rem=n%10\n",
    "#s=s+rem\n",
    "#n=n//10\n",
    "\n",
    "#rem=8769%10-----9\n",
    "#s=0+9=9\n",
    "#n=8769//10----876\n",
    "\n",
    "#rem=876%10----6\n",
    "#s=9+6=15\n",
    "#n=876//10----87\n",
    "\n",
    "\n",
    "#rem=87%10---7\n",
    "#s=15+7=22\n",
    "#n=87//10----8\n",
    "\n",
    "#rem=8%10----8\n",
    "#s=22+8+30\n",
    "#n=8//10------0"
   ]
  },
  {
   "cell_type": "code",
   "execution_count": 17,
   "id": "ff5b5caf-d1f5-4ed5-8f8b-8e767ff6e023",
   "metadata": {},
   "outputs": [
    {
     "name": "stdin",
     "output_type": "stream",
     "text": [
      "enter the number 8769\n"
     ]
    },
    {
     "name": "stdout",
     "output_type": "stream",
     "text": [
      "the reverse is  9678\n"
     ]
    }
   ],
   "source": [
    "# reverse of a number\n",
    "\n",
    "#8769---9678\n",
    "\n",
    "n=int(input(\"enter the number\"))\n",
    "rev=0\n",
    "while n>0:\n",
    "    rem=n%10\n",
    "    rev=rev*10+rem\n",
    "    n=n//10\n",
    "\n",
    "print(\"the reverse is \",rev)"
   ]
  },
  {
   "cell_type": "code",
   "execution_count": 18,
   "id": "a920e4e2-7b97-4b7e-a8b3-6af8ff75fc3a",
   "metadata": {},
   "outputs": [],
   "source": [
    "#n=8769\n",
    "\n",
    "#rem=n%10\n",
    "#rev=rev*10+rem\n",
    "#n=n//10\n",
    "\n",
    "#rem=8769%10-----9\n",
    "#rev=0*10+9---9\n",
    "#n=8769//10----876\n",
    "\n",
    "#rem=876%10----6\n",
    "#rev=9*10+6----96\n",
    "#n=876//10----87\n",
    "\n",
    "\n",
    "#rem=87%10---7\n",
    "#rev=96*10+7----967\n",
    "#n=87//10----8\n",
    "\n",
    "#rem=8%10----8\n",
    "#rev=967*10+8----9678\n",
    "#n=8//10------0"
   ]
  },
  {
   "cell_type": "code",
   "execution_count": 20,
   "id": "1f187065-5e4a-461e-b981-a53eebff2d64",
   "metadata": {},
   "outputs": [
    {
     "name": "stdout",
     "output_type": "stream",
     "text": [
      "9678\n"
     ]
    }
   ],
   "source": [
    "n=8769\n",
    "\n",
    "x=str(8769)\n",
    "print(x[::-1])"
   ]
  },
  {
   "cell_type": "code",
   "execution_count": 23,
   "id": "1bf9d8e5-9eea-4430-b7a3-470b6d1bf46f",
   "metadata": {},
   "outputs": [
    {
     "name": "stdin",
     "output_type": "stream",
     "text": [
      "enter the number 989\n"
     ]
    },
    {
     "name": "stdout",
     "output_type": "stream",
     "text": [
      "palidrome number\n"
     ]
    }
   ],
   "source": [
    "#palindrome number\n",
    "\n",
    "#121--121\n",
    "n=int(input(\"enter the number\"))\n",
    "rev=0\n",
    "n1=n\n",
    "while n>0:\n",
    "    rem=n%10\n",
    "    rev=rev*10+rem\n",
    "    n=n//10\n",
    "if rev==n1:\n",
    "    print(\"palidrome number\")\n",
    "else:\n",
    "    print(\"Not palidrome number\")"
   ]
  },
  {
   "cell_type": "code",
   "execution_count": null,
   "id": "a1cee01d-d713-4f5f-9bf7-03d47355b07d",
   "metadata": {},
   "outputs": [],
   "source": []
  }
 ],
 "metadata": {
  "kernelspec": {
   "display_name": "Python 3 (ipykernel)",
   "language": "python",
   "name": "python3"
  },
  "language_info": {
   "codemirror_mode": {
    "name": "ipython",
    "version": 3
   },
   "file_extension": ".py",
   "mimetype": "text/x-python",
   "name": "python",
   "nbconvert_exporter": "python",
   "pygments_lexer": "ipython3",
   "version": "3.11.7"
  }
 },
 "nbformat": 4,
 "nbformat_minor": 5
}

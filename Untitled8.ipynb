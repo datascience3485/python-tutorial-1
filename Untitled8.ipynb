{
 "cells": [
  {
   "cell_type": "code",
   "execution_count": 5,
   "id": "8f22e48b-1fb9-483c-8e83-a0a1ef705f69",
   "metadata": {},
   "outputs": [
    {
     "name": "stdout",
     "output_type": "stream",
     "text": [
      "Cars are cool!\n"
     ]
    }
   ],
   "source": [
    "loc = 'Auto shop'\n",
    "if loc=='Auto shop':\n",
    "    print('Cars are cool!')\n",
    "elif loc== 'Bank':\n",
    "    print('money is cool!')\n",
    "elif loc== 'Store':\n",
    "    print('Welcome to the Store!')\n",
    "else:\n",
    "    print('I do not know much')\n",
    "    "
   ]
  },
  {
   "cell_type": "code",
   "execution_count": 3,
   "id": "fbea199b-1c53-421b-a268-b47087ee52bd",
   "metadata": {},
   "outputs": [
    {
     "name": "stdout",
     "output_type": "stream",
     "text": [
      "feed me!\n"
     ]
    }
   ],
   "source": [
    "hungry = True\n",
    "if hungry:\n",
    "    print('feed me!')\n",
    "else:\n",
    "    print('i m not hungry')"
   ]
  },
  {
   "cell_type": "code",
   "execution_count": 6,
   "id": "359508a4-695d-4783-87db-4c4f831e55d3",
   "metadata": {},
   "outputs": [
    {
     "name": "stdout",
     "output_type": "stream",
     "text": [
      "3 is a positive number\n",
      "This is always printed\n",
      "this is always printed\n"
     ]
    }
   ],
   "source": [
    "# If the number is positive,we print an appropriate message\n",
    "\n",
    "num=3\n",
    "if num>0:\n",
    "    print(num,\"is a positive number\")\n",
    "print(\"This is always printed\")  #as its outside the loop\n",
    "\n",
    "num= -1\n",
    "if num>0:\n",
    "    print(num,\"is a positive number\")\n",
    "print(\"this is always printed\") #as its outside the loop"
   ]
  },
  {
   "cell_type": "code",
   "execution_count": 8,
   "id": "d54f231f-2d30-485d-9b2d-af6507301bea",
   "metadata": {},
   "outputs": [
    {
     "name": "stdin",
     "output_type": "stream",
     "text": [
      " 8\n"
     ]
    },
    {
     "name": "stdout",
     "output_type": "stream",
     "text": [
      "Weird\n"
     ]
    }
   ],
   "source": [
    "n=int(input())\n",
    "\n",
    "if n%2 ==1:\n",
    "    print(\"Weird\")\n",
    "elif n%2==0 and 2 <=n <=5:\n",
    "    print(\"Not Weird\")\n",
    "elif n%2==0 and 6<=n<=20:\n",
    "    print(\"Weird\")\n",
    "else:\n",
    "    print(\"Not Weird\")\n",
    "\n",
    "          \n"
   ]
  },
  {
   "cell_type": "code",
   "execution_count": 9,
   "id": "82c9e9b2-35bd-428e-815a-a9daa39f35d0",
   "metadata": {},
   "outputs": [
    {
     "name": "stdout",
     "output_type": "stream",
     "text": [
      "I am inside a Loop\n",
      "Looping is intresting\n",
      "I am inside a Loop\n",
      "Looping is intresting\n",
      "I am inside a Loop\n",
      "Looping is intresting\n",
      "I am inside a Loop\n",
      "Looping is intresting\n",
      "I am inside a Loop\n",
      "Looping is intresting\n"
     ]
    }
   ],
   "source": [
    "count=0\n",
    "while count<5:\n",
    "    print(\"I am inside a Loop\")\n",
    "    print(\"Looping is intresting\")\n",
    "    count=count+1"
   ]
  },
  {
   "cell_type": "code",
   "execution_count": 11,
   "id": "dc090ea8-fe42-42c7-9b93-330642b19e70",
   "metadata": {},
   "outputs": [
    {
     "name": "stdin",
     "output_type": "stream",
     "text": [
      "enter a number 98\n"
     ]
    },
    {
     "name": "stdout",
     "output_type": "stream",
     "text": [
      "98\n",
      "196\n",
      "294\n",
      "392\n",
      "490\n",
      "588\n",
      "686\n",
      "784\n",
      "882\n",
      "980\n"
     ]
    }
   ],
   "source": [
    "number=int(input(\"enter a number\"))\n",
    "count=1\n",
    "while count<=10:\n",
    "     product= number*count\n",
    "     print(product)\n",
    "     count=count+1\n"
   ]
  },
  {
   "cell_type": "code",
   "execution_count": 12,
   "id": "5ad7dc68-ce1e-482c-9265-1bef7d017083",
   "metadata": {},
   "outputs": [
    {
     "name": "stdin",
     "output_type": "stream",
     "text": [
      "enter a number: 8\n"
     ]
    },
    {
     "name": "stdout",
     "output_type": "stream",
     "text": [
      "8 x 10 = 80\n",
      "8 x 9 = 72\n",
      "8 x 8 = 64\n",
      "8 x 7 = 56\n",
      "8 x 6 = 48\n",
      "8 x 5 = 40\n",
      "8 x 4 = 32\n",
      "8 x 3 = 24\n",
      "8 x 2 = 16\n",
      "8 x 1 = 8\n"
     ]
    }
   ],
   "source": [
    "number=int(input(\"enter a number:\"))\n",
    "count=10\n",
    "while count >=1:\n",
    "    product=number*count\n",
    "    print(number,\"x\",count,\"=\",product)\n",
    "    count=count-1"
   ]
  },
  {
   "cell_type": "code",
   "execution_count": 14,
   "id": "322ebde2-998c-42e2-bb41-977d51ac0498",
   "metadata": {},
   "outputs": [
    {
     "name": "stdin",
     "output_type": "stream",
     "text": [
      "enter the balance of your account\n",
      " 78658\n",
      "select from following:\n",
      "             enter code W for withdraw\n",
      "             enter code d for deposit\n",
      "             enter code c for checking balance\n",
      " w\n"
     ]
    },
    {
     "name": "stdout",
     "output_type": "stream",
     "text": [
      "enter the amount you want to withdraw:\n"
     ]
    },
    {
     "name": "stdin",
     "output_type": "stream",
     "text": [
      " 5678\n"
     ]
    },
    {
     "name": "stdout",
     "output_type": "stream",
     "text": [
      "your remaining balance is \n",
      " 72980\n"
     ]
    }
   ],
   "source": [
    "a=int(input(\"enter the balance of your account\\n\"))\n",
    "y=input('''select from following:\n",
    "             enter code W for withdraw\n",
    "             enter code d for deposit\n",
    "             enter code c for checking balance\\n''')\n",
    "if (y==\"w\"):\n",
    "    print(\"enter the amount you want to withdraw:\\n\",end=\"\")\n",
    "    amt=int(input())\n",
    "    p=a-amt\n",
    "    if(p>500):\n",
    "        print(\"your remaining balance is \\n\",a-amt)\n",
    "    else:\n",
    "        print(\"SORRY!!! You don't have sufficient balance\\n\")\n",
    "elif(y==\"d\"):\n",
    "    amt+int(input(\"enter amount you want to deposit\\n\"))\n",
    "    print(\"your new balance is:\",a+amt)\n",
    "elif(y==\"c\"):\n",
    "    print(\"your balance is:\",a)\n",
    "else:\n",
    "    print(\"wrong choice\")"
   ]
  },
  {
   "cell_type": "code",
   "execution_count": 4,
   "id": "68fdc450-5a51-4e2f-b130-013c76e8351a",
   "metadata": {},
   "outputs": [
    {
     "name": "stdin",
     "output_type": "stream",
     "text": [
      "select an option :\n",
      "1. check number is even or odd\n",
      "2. check entered number is positive or negative\n",
      " 1\n",
      "enter number: 8\n"
     ]
    },
    {
     "name": "stdout",
     "output_type": "stream",
     "text": [
      "number is even\n"
     ]
    }
   ],
   "source": [
    "x=int(input(\"select an option :\\n\"\n",
    "            \"1. check number is even or odd\\n\"\n",
    "            \"2. check entered number is positive or negative\\n\"))\n",
    "if (x==1):\n",
    "        a=float(input(\"enter number:\"))\n",
    "        if (a%2==0):\n",
    "              print(\"number is even\")\n",
    "        else:\n",
    "              print(\"number is odd\")\n",
    "elif(x==2):\n",
    "        b=float(input(\"enter number:\"))\n",
    "        if(b>0):\n",
    "            print(\"number is positive\")\n",
    "        elif(b<0):\n",
    "            print(\"number is negative\")\n",
    "        else:\n",
    "            print(\"you have entered zero which is neither positive or negative\")\n",
    "else:\n",
    "    print(\"wrong choice\")"
   ]
  },
  {
   "cell_type": "code",
   "execution_count": 10,
   "id": "0054b640-0521-4d55-86ac-4edbabc1f876",
   "metadata": {},
   "outputs": [
    {
     "name": "stdin",
     "output_type": "stream",
     "text": [
      "select an option:\n",
      "1. find area rectangle\n",
      "2. find area of circle 2\n",
      "enter radius of circle 35\n"
     ]
    },
    {
     "name": "stdout",
     "output_type": "stream",
     "text": [
      "Area of cirle: 3846.5\n"
     ]
    }
   ],
   "source": [
    "x=int(input(\"\"\"select an option:\n",
    "1. find area rectangle\n",
    "2. find area of circle\"\"\"))\n",
    "if(x==1):\n",
    "    l=float(input(\"enter length of rectangle\"))\n",
    "    w=float(input(\"enter breadth of rectangle\"))\n",
    "    print(\"Area of rectangle:\",l*w)\n",
    "elif(x==2):\n",
    "    r=int(input(\"enter radius of circle\"))\n",
    "    print(\"Area of cirle:\",3.14*r*r)\n",
    "else:\n",
    "    print(\"wrong choice\")"
   ]
  },
  {
   "cell_type": "code",
   "execution_count": 2,
   "id": "89c6b2fd-b0fe-4728-a4aa-6dfcff05af63",
   "metadata": {},
   "outputs": [
    {
     "name": "stdin",
     "output_type": "stream",
     "text": [
      "select an option :\n",
      "1. perform addition\n",
      "2. perform substraction\n",
      "3. perform multilication\n",
      "4. perform division\n",
      "5. perform inverse\n",
      "6. perform squaring\n",
      "7. perform cube of number\n",
      " 4\n",
      "enter 1st number: 12\n",
      "enter 2nd number: 2\n"
     ]
    },
    {
     "name": "stdout",
     "output_type": "stream",
     "text": [
      "addtion is: 6.0\n"
     ]
    }
   ],
   "source": [
    "x=int(input(\"select an option :\\n\"\n",
    "            \"1. perform addition\\n\"\n",
    "            \"2. perform substraction\\n\"\n",
    "            \"3. perform multilication\\n\"\n",
    "            \"4. perform division\\n\"\n",
    "            \"5. perform inverse\\n\"\n",
    "            \"6. perform squaring\\n\"\n",
    "            \"7. perform cube of number\\n\"))\n",
    "if(x==1):\n",
    "    a=float(input(\"enter 1st number:\"))\n",
    "    b=float(input(\"enter 2nd number:\"))\n",
    "    print(\"addtion is:\",a+b)\n",
    "elif(x==2):\n",
    "    a=float(input(\"enter 1st number:\"))\n",
    "    b=float(input(\"enter 2nd number:\"))\n",
    "    print(\"addtion is:\",a-b)\n",
    "elif(x==3):\n",
    "    a=float(input(\"enter 1st number:\"))\n",
    "    b=float(input(\"enter 2nd number:\"))\n",
    "    print(\"addition is:\",a*b)\n",
    "elif(x==4):\n",
    "    a=float(input(\"enter 1st number:\"))\n",
    "    b=float(input(\"enter 2nd number:\"))\n",
    "    print(\"addtion is:\",a/b)\n",
    "elif(x==5):\n",
    "    p=int(input(\"1. additive inverse\\n\"\n",
    "                \"2.multiplicative inverse\\n\"))\n",
    "    if(p==1):\n",
    "        a=float(input(\"enter number:\"))\n",
    "        print(\"additive inverse of number is\",-(a))\n",
    "    if(p==2):\n",
    "        a=float(input(\"enter number:\"))\n",
    "        print(\"multiplicative inverse of number is:\",1/a)\n",
    "elif(x==6):\n",
    "    a=float(input(\"enter number:\"))\n",
    "    print(\"square of number is\",a*a)\n",
    "elif(x==7):\n",
    "    a=float(input(\"enter number:\"))\n",
    "    print(\"cube of number is\",a*a*a)\n",
    "else:\n",
    "    print(\"wrong cchouce\")"
   ]
  },
  {
   "cell_type": "code",
   "execution_count": null,
   "id": "c586995f-bf8e-4198-9db8-7ffc9fe62f3b",
   "metadata": {},
   "outputs": [],
   "source": []
  },
  {
   "cell_type": "code",
   "execution_count": null,
   "id": "194a4d9b-b6ba-441a-8e7b-9ccae754e63f",
   "metadata": {},
   "outputs": [],
   "source": []
  }
 ],
 "metadata": {
  "kernelspec": {
   "display_name": "Python 3 (ipykernel)",
   "language": "python",
   "name": "python3"
  },
  "language_info": {
   "codemirror_mode": {
    "name": "ipython",
    "version": 3
   },
   "file_extension": ".py",
   "mimetype": "text/x-python",
   "name": "python",
   "nbconvert_exporter": "python",
   "pygments_lexer": "ipython3",
   "version": "3.11.7"
  }
 },
 "nbformat": 4,
 "nbformat_minor": 5
}

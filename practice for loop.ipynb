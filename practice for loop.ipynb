{
 "cells": [
  {
   "cell_type": "code",
   "execution_count": 1,
   "id": "44e76764-a533-4428-a299-4619b3142d62",
   "metadata": {},
   "outputs": [
    {
     "data": {
      "text/plain": [
       "True"
      ]
     },
     "execution_count": 1,
     "metadata": {},
     "output_type": "execute_result"
    }
   ],
   "source": [
    "a=\"hello world\"\n",
    "\n",
    "\n",
    "\"r\" in a"
   ]
  },
  {
   "cell_type": "code",
   "execution_count": 2,
   "id": "c228809a-c305-4944-8c81-0eacde56537a",
   "metadata": {},
   "outputs": [
    {
     "data": {
      "text/plain": [
       "1"
      ]
     },
     "execution_count": 2,
     "metadata": {},
     "output_type": "execute_result"
    }
   ],
   "source": [
    "a=[1,2,3,4,5,6]\n",
    "a[0]"
   ]
  },
  {
   "cell_type": "code",
   "execution_count": 3,
   "id": "b29ea9de-eeaa-469c-a6ef-5362d12b2e10",
   "metadata": {},
   "outputs": [
    {
     "name": "stdout",
     "output_type": "stream",
     "text": [
      "bye\n",
      "2\n",
      "bye\n",
      "4\n",
      "56\n",
      "bye\n"
     ]
    }
   ],
   "source": [
    "a=(1,2,3,4,56,7)\n",
    "\n",
    "\n",
    "for i in a:\n",
    "    if i%2==0:\n",
    "        print(i)\n",
    "    else:\n",
    "        print(\"bye\")"
   ]
  },
  {
   "cell_type": "code",
   "execution_count": 4,
   "id": "2776b672-6f20-4678-9255-959cd1fb3209",
   "metadata": {},
   "outputs": [
    {
     "name": "stdout",
     "output_type": "stream",
     "text": [
      "\n",
      "a\n",
      "aa\n",
      "aaa\n",
      "aaaa\n"
     ]
    }
   ],
   "source": [
    "s1='a'\n",
    "for i in range(5): #0 1 2 3 4\n",
    "    print(s1*i)"
   ]
  },
  {
   "cell_type": "code",
   "execution_count": 6,
   "id": "6a5d6c9c-ef9b-45a9-b342-b3b2fd845e9b",
   "metadata": {},
   "outputs": [
    {
     "name": "stdout",
     "output_type": "stream",
     "text": [
      "i@i@t@ @m@a@d@r@a@s@"
     ]
    }
   ],
   "source": [
    "st=\"iit madras\"\n",
    "for t in st:\n",
    "    print(t,end=\"@\") #\\n new line\\t for tabbed spaces"
   ]
  },
  {
   "cell_type": "code",
   "execution_count": 7,
   "id": "8d1a2caa-f428-44b4-9f51-90618d16cb39",
   "metadata": {},
   "outputs": [
    {
     "name": "stdout",
     "output_type": "stream",
     "text": [
      "e\n",
      "o\n",
      "e\n",
      "e\n",
      "o\n",
      "e\n",
      "o\n",
      "a\n",
      "e\n",
      "o\n",
      "u\n"
     ]
    }
   ],
   "source": [
    "a=\"hello everyone how are you\"\n",
    "vowel=[\"a\",\"i\",\"e\",\"o\",\"u\"]\n",
    "for i in a:\n",
    "    if i in vowel:\n",
    "        print(i)"
   ]
  },
  {
   "cell_type": "code",
   "execution_count": 11,
   "id": "7e5f489c-327e-4998-95db-e64fafdf56d8",
   "metadata": {},
   "outputs": [
    {
     "name": "stdout",
     "output_type": "stream",
     "text": [
      "good one\n",
      "good one\n",
      "data science\n"
     ]
    }
   ],
   "source": [
    "word=\"hello1\"\n",
    "for w in word:\n",
    "    if w==\"l\":\n",
    "        print(\"good one\")\n",
    "else:\n",
    "    print(\"data science\")"
   ]
  },
  {
   "cell_type": "code",
   "execution_count": 14,
   "id": "528e9198-a846-4df2-ae5d-f46e34b4e013",
   "metadata": {},
   "outputs": [
    {
     "name": "stdout",
     "output_type": "stream",
     "text": [
      "a\n",
      "hello\n",
      "r\n",
      "hello\n",
      "that's great\n",
      "p\n",
      "hello\n",
      "i\n",
      "hello\n",
      "t\n",
      "hello\n",
      "t\n"
     ]
    }
   ],
   "source": [
    "name=\"arpit\"\n",
    "\n",
    "\n",
    "for i in name:\n",
    "    if i==\"p\":\n",
    "        print(\"that's great\")\n",
    "    print(i)\n",
    "    print(\"hello\")\n",
    "\n",
    "print(i)"
   ]
  },
  {
   "cell_type": "code",
   "execution_count": 15,
   "id": "a94a619f-90dc-4016-9650-5f2c253664ab",
   "metadata": {},
   "outputs": [
    {
     "name": "stdout",
     "output_type": "stream",
     "text": [
      "good\n",
      "even 2\n",
      "good\n",
      "good\n",
      "even 4\n",
      "good\n",
      "good\n",
      "even 6\n",
      "good\n",
      "good\n",
      "even 8\n",
      "good\n",
      "good\n"
     ]
    }
   ],
   "source": [
    "a=[1,2,3,4,5,6,7,8,9]\n",
    "for i in a:\n",
    "    if i%2==0:\n",
    "        print(\"even\",i)\n",
    "    print(\"good\")\n"
   ]
  },
  {
   "cell_type": "code",
   "execution_count": 18,
   "id": "223bdef2-3797-42a7-b4d8-ab9a72e5f92a",
   "metadata": {},
   "outputs": [
    {
     "name": "stdout",
     "output_type": "stream",
     "text": [
      "the sum of even number is 2450\n",
      "the sum of odd number is 2500\n"
     ]
    }
   ],
   "source": [
    "se=0\n",
    "so=0\n",
    "for i in range(1,100):\n",
    "    if i%2==0:\n",
    "        se=se+i\n",
    "    else:\n",
    "        so=so+i\n",
    "print(\"the sum of even number is\",se)\n",
    "print(\"the sum of odd number is\",so)"
   ]
  },
  {
   "cell_type": "code",
   "execution_count": 20,
   "id": "75596601-308c-4083-b3da-c136a426bf15",
   "metadata": {},
   "outputs": [
    {
     "name": "stdin",
     "output_type": "stream",
     "text": [
      "enter the number 656\n"
     ]
    },
    {
     "name": "stdout",
     "output_type": "stream",
     "text": [
      "Palindrome Number\n"
     ]
    }
   ],
   "source": [
    "# palindrome number\n",
    "#121----121\n",
    "\n",
    "n= int(input(\"enter the number\"))\n",
    "rev=0\n",
    "n1=n\n",
    "while n>0:\n",
    "    rem=n%10\n",
    "    rev=rev*10+rem\n",
    "    n=n//10\n",
    "if n1==rev:\n",
    "    print(\"Palindrome Number\")\n",
    "else:\n",
    "    print(\"Not Palindrome\")"
   ]
  },
  {
   "cell_type": "code",
   "execution_count": 21,
   "id": "899d9cea-3b24-47cc-a6ff-e28a617c1dd8",
   "metadata": {},
   "outputs": [
    {
     "name": "stdout",
     "output_type": "stream",
     "text": [
      "112233445566778899101111121131141151161171181191202212222232242252262272282292303313323333343353363373383393404414424434444454464474484494505515525535545555565575585595606616626636646656666676686696707717727737747757767777787797808818828838848858868878888898909919929939949959969979989999"
     ]
    }
   ],
   "source": [
    "# print all pallindrome number from 11--999\n",
    "\n",
    "for i in range(11,1000):\n",
    "    n=i\n",
    "    rev=0\n",
    "    while n>0:\n",
    "        rem=n%10\n",
    "        rev=rev*10+rem\n",
    "        n=n//10\n",
    "    if rev==i:\n",
    "        print(i,end=\"\")"
   ]
  },
  {
   "cell_type": "code",
   "execution_count": null,
   "id": "c40066a4-86cf-4bb9-a674-173e495b9ca0",
   "metadata": {},
   "outputs": [],
   "source": []
  }
 ],
 "metadata": {
  "kernelspec": {
   "display_name": "Python 3 (ipykernel)",
   "language": "python",
   "name": "python3"
  },
  "language_info": {
   "codemirror_mode": {
    "name": "ipython",
    "version": 3
   },
   "file_extension": ".py",
   "mimetype": "text/x-python",
   "name": "python",
   "nbconvert_exporter": "python",
   "pygments_lexer": "ipython3",
   "version": "3.11.7"
  }
 },
 "nbformat": 4,
 "nbformat_minor": 5
}
